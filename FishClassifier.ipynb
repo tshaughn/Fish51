{
 "cells": [
  {
   "cell_type": "code",
   "execution_count": 2,
   "id": "16e07ef1-ad93-4286-b68d-ebe54340f5b8",
   "metadata": {},
   "outputs": [],
   "source": [
    "import pandas as pd\n",
    "import numpy as np\n",
    "import os\n",
    "import glob\n",
    "import xml.etree.ElementTree as ET \n",
    "import random\n",
    "import shutil\n",
    "import fiftyone as fo\n",
    "import fiftyone.zoo as foz\n",
    "from ultralytics import YOLO\n",
    "from torchvision.io.image import read_image\n",
    "from torchvision.models.detection import fasterrcnn_resnet50_fpn_v2, FasterRCNN_ResNet50_FPN_V2_Weights"
   ]
  },
  {
   "cell_type": "code",
   "execution_count": 3,
   "id": "64d3d252-3ab8-49c5-a7e5-c7c64692f012",
   "metadata": {},
   "outputs": [
    {
     "data": {
      "text/html": [
       "\n",
       "        <iframe\n",
       "            width=\"100%\"\n",
       "            height=\"800\"\n",
       "            src=\"http://localhost:5151/?notebook=True&subscription=8bbd3851-9c80-4791-96aa-e2841a5add1f\"\n",
       "            frameborder=\"0\"\n",
       "            allowfullscreen\n",
       "            \n",
       "        ></iframe>\n",
       "        "
      ],
      "text/plain": [
       "<IPython.lib.display.IFrame at 0x7c4914711b70>"
      ]
     },
     "metadata": {},
     "output_type": "display_data"
    }
   ],
   "source": [
    "session = fo.launch_app()"
   ]
  },
  {
   "cell_type": "code",
   "execution_count": 2,
   "id": "5ee18796-d790-430b-a758-82f71796d8bd",
   "metadata": {},
   "outputs": [],
   "source": [
    "path = \"./fish-tracking-dataset/annotations.xml\" \n",
    "# XML files are used to hold data, in this case, there are multiple image\n",
    "# files with multiple fish in every image. We"
   ]
  },
  {
   "cell_type": "code",
   "execution_count": 3,
   "id": "ccdc58a6-550c-4d0b-8253-bfd33c41d1e5",
   "metadata": {},
   "outputs": [],
   "source": [
    "dataset = []\n",
    "\n",
    "for anno in glob.glob(path):\n",
    "    tree = ET.parse(anno)\n",
    "    root = tree.getroot()\n",
    "    \n",
    "    for image_elem in root.iter(\"image\"):\n",
    "        image_attrs = image_elem.attrib\n",
    "        image_data = {\n",
    "            \"filename\": image_attrs['name'],\n",
    "            \"width\": float(image_attrs['width']),\n",
    "            \"height\": float(image_attrs['height']),\n",
    "            \"boxes\": []\n",
    "        }\n",
    "        \n",
    "        for box_elem in image_elem.iter(\"box\"):\n",
    "            box_attrs = box_elem.attrib\n",
    "            box_data = {\n",
    "                \"label\": box_attrs['label'],\n",
    "                \"occluded\": int(box_attrs['occluded']),\n",
    "                \"xtl\": float(box_attrs['xtl']),\n",
    "                \"ytl\": float(box_attrs['ytl']),\n",
    "                \"xbr\": float(box_attrs['xbr']),\n",
    "                \"ybr\": float(box_attrs['ybr'])\n",
    "            }\n",
    "            image_data[\"boxes\"].append(box_data)\n",
    "        \n",
    "        dataset.append(image_data)"
   ]
  },
  {
   "cell_type": "code",
   "execution_count": 4,
   "id": "7e5e8d68-fe83-4a1a-9326-853050315cbe",
   "metadata": {},
   "outputs": [
    {
     "data": {
      "text/html": [
       "<div>\n",
       "<style scoped>\n",
       "    .dataframe tbody tr th:only-of-type {\n",
       "        vertical-align: middle;\n",
       "    }\n",
       "\n",
       "    .dataframe tbody tr th {\n",
       "        vertical-align: top;\n",
       "    }\n",
       "\n",
       "    .dataframe thead th {\n",
       "        text-align: right;\n",
       "    }\n",
       "</style>\n",
       "<table border=\"1\" class=\"dataframe\">\n",
       "  <thead>\n",
       "    <tr style=\"text-align: right;\">\n",
       "      <th></th>\n",
       "      <th>filename</th>\n",
       "      <th>width</th>\n",
       "      <th>height</th>\n",
       "      <th>boxes</th>\n",
       "    </tr>\n",
       "  </thead>\n",
       "  <tbody>\n",
       "    <tr>\n",
       "      <th>0</th>\n",
       "      <td>images/01.jpg</td>\n",
       "      <td>1752.0</td>\n",
       "      <td>986.0</td>\n",
       "      <td>[{'label': 'fish', 'occluded': 0, 'xtl': 115.0...</td>\n",
       "    </tr>\n",
       "    <tr>\n",
       "      <th>1</th>\n",
       "      <td>images/02.jpg</td>\n",
       "      <td>1752.0</td>\n",
       "      <td>986.0</td>\n",
       "      <td>[{'label': 'fish', 'occluded': 0, 'xtl': 43.47...</td>\n",
       "    </tr>\n",
       "    <tr>\n",
       "      <th>2</th>\n",
       "      <td>images/03.jpg</td>\n",
       "      <td>1752.0</td>\n",
       "      <td>986.0</td>\n",
       "      <td>[{'label': 'fish', 'occluded': 1, 'xtl': 0.0, ...</td>\n",
       "    </tr>\n",
       "    <tr>\n",
       "      <th>3</th>\n",
       "      <td>images/04.jpg</td>\n",
       "      <td>1752.0</td>\n",
       "      <td>986.0</td>\n",
       "      <td>[{'label': 'fish', 'occluded': 1, 'xtl': 0.0, ...</td>\n",
       "    </tr>\n",
       "    <tr>\n",
       "      <th>4</th>\n",
       "      <td>images/05.jpg</td>\n",
       "      <td>1752.0</td>\n",
       "      <td>986.0</td>\n",
       "      <td>[{'label': 'fish', 'occluded': 1, 'xtl': 400.9...</td>\n",
       "    </tr>\n",
       "    <tr>\n",
       "      <th>...</th>\n",
       "      <td>...</td>\n",
       "      <td>...</td>\n",
       "      <td>...</td>\n",
       "      <td>...</td>\n",
       "    </tr>\n",
       "    <tr>\n",
       "      <th>94</th>\n",
       "      <td>images/95.jpg</td>\n",
       "      <td>1752.0</td>\n",
       "      <td>986.0</td>\n",
       "      <td>[{'label': 'fish', 'occluded': 0, 'xtl': 1017....</td>\n",
       "    </tr>\n",
       "    <tr>\n",
       "      <th>95</th>\n",
       "      <td>images/96.jpg</td>\n",
       "      <td>1752.0</td>\n",
       "      <td>986.0</td>\n",
       "      <td>[{'label': 'fish', 'occluded': 0, 'xtl': 996.4...</td>\n",
       "    </tr>\n",
       "    <tr>\n",
       "      <th>96</th>\n",
       "      <td>images/97.jpg</td>\n",
       "      <td>1752.0</td>\n",
       "      <td>986.0</td>\n",
       "      <td>[{'label': 'fish', 'occluded': 0, 'xtl': 983.9...</td>\n",
       "    </tr>\n",
       "    <tr>\n",
       "      <th>97</th>\n",
       "      <td>images/98.jpg</td>\n",
       "      <td>1752.0</td>\n",
       "      <td>986.0</td>\n",
       "      <td>[{'label': 'fish', 'occluded': 0, 'xtl': 972.4...</td>\n",
       "    </tr>\n",
       "    <tr>\n",
       "      <th>98</th>\n",
       "      <td>images/99.jpg</td>\n",
       "      <td>1752.0</td>\n",
       "      <td>986.0</td>\n",
       "      <td>[{'label': 'fish', 'occluded': 0, 'xtl': 953.1...</td>\n",
       "    </tr>\n",
       "  </tbody>\n",
       "</table>\n",
       "<p>99 rows × 4 columns</p>\n",
       "</div>"
      ],
      "text/plain": [
       "         filename   width  height  \\\n",
       "0   images/01.jpg  1752.0   986.0   \n",
       "1   images/02.jpg  1752.0   986.0   \n",
       "2   images/03.jpg  1752.0   986.0   \n",
       "3   images/04.jpg  1752.0   986.0   \n",
       "4   images/05.jpg  1752.0   986.0   \n",
       "..            ...     ...     ...   \n",
       "94  images/95.jpg  1752.0   986.0   \n",
       "95  images/96.jpg  1752.0   986.0   \n",
       "96  images/97.jpg  1752.0   986.0   \n",
       "97  images/98.jpg  1752.0   986.0   \n",
       "98  images/99.jpg  1752.0   986.0   \n",
       "\n",
       "                                                boxes  \n",
       "0   [{'label': 'fish', 'occluded': 0, 'xtl': 115.0...  \n",
       "1   [{'label': 'fish', 'occluded': 0, 'xtl': 43.47...  \n",
       "2   [{'label': 'fish', 'occluded': 1, 'xtl': 0.0, ...  \n",
       "3   [{'label': 'fish', 'occluded': 1, 'xtl': 0.0, ...  \n",
       "4   [{'label': 'fish', 'occluded': 1, 'xtl': 400.9...  \n",
       "..                                                ...  \n",
       "94  [{'label': 'fish', 'occluded': 0, 'xtl': 1017....  \n",
       "95  [{'label': 'fish', 'occluded': 0, 'xtl': 996.4...  \n",
       "96  [{'label': 'fish', 'occluded': 0, 'xtl': 983.9...  \n",
       "97  [{'label': 'fish', 'occluded': 0, 'xtl': 972.4...  \n",
       "98  [{'label': 'fish', 'occluded': 0, 'xtl': 953.1...  \n",
       "\n",
       "[99 rows x 4 columns]"
      ]
     },
     "metadata": {},
     "output_type": "display_data"
    }
   ],
   "source": [
    "data0=pd.DataFrame(dataset)\n",
    "display(data0)"
   ]
  },
  {
   "cell_type": "code",
   "execution_count": 5,
   "id": "15ea1ed0-3f5f-4a56-9c63-07c40a3a41e9",
   "metadata": {},
   "outputs": [
    {
     "data": {
      "text/plain": [
       "[{'label': 'fish',\n",
       "  'occluded': 0,\n",
       "  'xtl': 115.06,\n",
       "  'ytl': 284.8,\n",
       "  'xbr': 249.0,\n",
       "  'ybr': 394.0},\n",
       " {'label': 'fish',\n",
       "  'occluded': 1,\n",
       "  'xtl': 581.88,\n",
       "  'ytl': 289.74,\n",
       "  'xbr': 683.72,\n",
       "  'ybr': 393.12},\n",
       " {'label': 'fish',\n",
       "  'occluded': 0,\n",
       "  'xtl': 583.38,\n",
       "  'ytl': 478.65,\n",
       "  'xbr': 769.57,\n",
       "  'ybr': 599.53},\n",
       " {'label': 'fish',\n",
       "  'occluded': 0,\n",
       "  'xtl': 1014.1,\n",
       "  'ytl': 500.26,\n",
       "  'xbr': 1106.98,\n",
       "  'ybr': 625.76},\n",
       " {'label': 'fish',\n",
       "  'occluded': 0,\n",
       "  'xtl': 203.38,\n",
       "  'ytl': 610.53,\n",
       "  'xbr': 314.48,\n",
       "  'ybr': 778.21},\n",
       " {'label': 'fish',\n",
       "  'occluded': 0,\n",
       "  'xtl': 375.68,\n",
       "  'ytl': 766.89,\n",
       "  'xbr': 510.44,\n",
       "  'ybr': 836.84},\n",
       " {'label': 'fish',\n",
       "  'occluded': 0,\n",
       "  'xtl': 1130.1,\n",
       "  'ytl': 184.81,\n",
       "  'xbr': 1257.22,\n",
       "  'ybr': 270.53},\n",
       " {'label': 'fish',\n",
       "  'occluded': 1,\n",
       "  'xtl': 1303.47,\n",
       "  'ytl': 332.17,\n",
       "  'xbr': 1362.19,\n",
       "  'ybr': 390.46},\n",
       " {'label': 'fish',\n",
       "  'occluded': 0,\n",
       "  'xtl': 860.56,\n",
       "  'ytl': 406.65,\n",
       "  'xbr': 965.02,\n",
       "  'ybr': 536.78}]"
      ]
     },
     "execution_count": 5,
     "metadata": {},
     "output_type": "execute_result"
    }
   ],
   "source": [
    "data0[\"boxes\"][0]"
   ]
  },
  {
   "cell_type": "code",
   "execution_count": 6,
   "id": "5c642e55-06f9-4bf8-97fd-25458b37c1e1",
   "metadata": {},
   "outputs": [],
   "source": [
    "def normalize_bbox(xtl, ytl, xbr, ybr, img_width, img_height):\n",
    "    \"\"\"\n",
    "    Convert bounding box from top-left and bottom-right coordinates to normalized top-left (x, y) and (width, height).\n",
    "    \n",
    "    Parameters:\n",
    "    xtl (float): x-coordinate of the top-left corner\n",
    "    ytl (float): y-coordinate of the top-left corner\n",
    "    xbr (float): x-coordinate of the bottom-right corner\n",
    "    ybr (float): y-coordinate of the bottom-right corner\n",
    "    img_width (float): Width of the image\n",
    "    img_height (float): Height of the image\n",
    "    \n",
    "    Returns:\n",
    "    tuple: Normalized (xtl_norm, ytl_norm, width_norm, height_norm)\n",
    "    \"\"\"\n",
    "    # Calculate the width and height of the bounding box\n",
    "    bbox_width = xbr - xtl\n",
    "    bbox_height = ybr - ytl\n",
    "    \n",
    "    # Normalize top-left corner and dimensions\n",
    "    xtl_norm = xtl / img_width\n",
    "    ytl_norm = ytl / img_height\n",
    "    bbox_width_norm = bbox_width / img_width\n",
    "    bbox_height_norm = bbox_height / img_height\n",
    "    \n",
    "    return xtl_norm, ytl_norm, bbox_width_norm, bbox_height_norm\n"
   ]
  },
  {
   "cell_type": "code",
   "execution_count": 7,
   "id": "5468c1ad-75e4-4a5b-bcc6-be0391a94d80",
   "metadata": {},
   "outputs": [
    {
     "name": "stdout",
     "output_type": "stream",
     "text": [
      "annotations.xml  boxes\tfish.csv  images\n"
     ]
    }
   ],
   "source": [
    "!ls fish-tracking-dataset"
   ]
  },
  {
   "cell_type": "code",
   "execution_count": 8,
   "id": "2d3a34d9-9d70-4062-9ec7-a4b8200c6269",
   "metadata": {},
   "outputs": [],
   "source": [
    "dataset_fo = fo.Dataset(\"new_fish_dataset\")"
   ]
  },
  {
   "cell_type": "code",
   "execution_count": 9,
   "id": "547b6b51-eea1-4b2b-8ba7-07630b6ecdf6",
   "metadata": {},
   "outputs": [],
   "source": [
    "for i, row in data0.iterrows():\n",
    "    sample = fo.Sample(\"fish-tracking-dataset/\" + row[\"filename\"])\n",
    "    dataset_fo.add_sample(sample)\n"
   ]
  },
  {
   "cell_type": "code",
   "execution_count": 10,
   "id": "fca1df71-e17d-42a1-ac1a-c777bad86b53",
   "metadata": {},
   "outputs": [
    {
     "name": "stdout",
     "output_type": "stream",
     "text": [
      "Name:        new_fish_dataset\n",
      "Media type:  image\n",
      "Num samples: 99\n",
      "Persistent:  False\n",
      "Tags:        []\n",
      "Sample fields:\n",
      "    id:       fiftyone.core.fields.ObjectIdField\n",
      "    filepath: fiftyone.core.fields.StringField\n",
      "    tags:     fiftyone.core.fields.ListField(fiftyone.core.fields.StringField)\n",
      "    metadata: fiftyone.core.fields.EmbeddedDocumentField(fiftyone.core.metadata.ImageMetadata)\n"
     ]
    }
   ],
   "source": [
    "print(dataset_fo)"
   ]
  },
  {
   "cell_type": "code",
   "execution_count": 1,
   "id": "71b4c829-3c1f-4a0b-934e-91db44e0302e",
   "metadata": {},
   "outputs": [
    {
     "ename": "NameError",
     "evalue": "name 'fo' is not defined",
     "output_type": "error",
     "traceback": [
      "\u001b[0;31m---------------------------------------------------------------------------\u001b[0m",
      "\u001b[0;31mNameError\u001b[0m                                 Traceback (most recent call last)",
      "Cell \u001b[0;32mIn[1], line 1\u001b[0m\n\u001b[0;32m----> 1\u001b[0m session \u001b[38;5;241m=\u001b[39m \u001b[43mfo\u001b[49m\u001b[38;5;241m.\u001b[39mlaunch_app(dataset_fo)\n",
      "\u001b[0;31mNameError\u001b[0m: name 'fo' is not defined"
     ]
    }
   ],
   "source": [
    "session = fo.launch_app(dataset_fo)"
   ]
  },
  {
   "cell_type": "code",
   "execution_count": 12,
   "id": "3fc06ee7-9554-4cb3-8efc-71b7a9b280d9",
   "metadata": {},
   "outputs": [
    {
     "name": "stdout",
     "output_type": "stream",
     "text": [
      "ls: cannot access '/home/tylershaughnessy/Documents/cphack/fish-tracking-datasetimages/01.jpg': No such file or directory\n"
     ]
    }
   ],
   "source": [
    "!ls /home/tylershaughnessy/Documents/cphack/fish-tracking-datasetimages/01.jpg"
   ]
  },
  {
   "cell_type": "code",
   "execution_count": 13,
   "id": "63254fea-d962-4bf2-b097-7bc92cddb2d4",
   "metadata": {},
   "outputs": [],
   "source": [
    "model = YOLO(\"yolov8s.pt\")"
   ]
  },
  {
   "cell_type": "code",
   "execution_count": 14,
   "id": "0ba6d255-2846-4b6f-b1d7-ce8a92933115",
   "metadata": {},
   "outputs": [
    {
     "name": "stdout",
     "output_type": "stream",
     "text": []
    },
    {
     "name": "stdout",
     "output_type": "stream",
     "text": [
      " 100% |███████████████████| 99/99 [21.8s elapsed, 0s remaining, 4.7 samples/s]      \n"
     ]
    }
   ],
   "source": [
    "dataset_fo.apply_model(model, label_field=\"YOLOv8\")"
   ]
  },
  {
   "cell_type": "code",
   "execution_count": 15,
   "id": "77dd49f0-5f5d-4971-bb34-770c64617ca9",
   "metadata": {},
   "outputs": [],
   "source": [
    "def convert_xyxy_boxes(sample, boxes):\n",
    "    new_boxes = []\n",
    "    \n",
    "    for box in boxes:\n",
    "        \n",
    "        # Normalize X and Y by width and height\n",
    "        nx = box[0] / sample.metadata.width\n",
    "        ny = box[1] / sample.metadata.height\n",
    "        \n",
    "        # Calculate width and height and normalize as well\n",
    "        nw = (box[2] - box[0]) / sample.metadata.width\n",
    "        nh = (box[3] - box[1]) / sample.metadata.height\n",
    "        new_box = [nx, ny, nw, nh]\n",
    "        new_boxes.append(new_box)\n",
    "        \n",
    "    return new_boxes"
   ]
  },
  {
   "cell_type": "code",
   "execution_count": 16,
   "id": "0fa14442-dc6f-462f-be8d-aa53f7465e49",
   "metadata": {},
   "outputs": [
    {
     "name": "stdout",
     "output_type": "stream",
     "text": [
      "Computing metadata...\n",
      " 100% |███████████████████| 99/99 [44.3ms elapsed, 0s remaining, 2.2K samples/s] \n"
     ]
    }
   ],
   "source": [
    "weights = FasterRCNN_ResNet50_FPN_V2_Weights.DEFAULT\n",
    "model = fasterrcnn_resnet50_fpn_v2(weights=weights, box_score_thresh=0.9)\n",
    "\n",
    "# Compute Metadata to collect each samples width and height\n",
    "dataset_fo.compute_metadata() \n",
    "\n",
    "for sample in dataset_fo:\n",
    "    \n",
    "    # Step 1: Load the image\n",
    "    image = read_image(sample.filepath)\n",
    "\n",
    "    # Step 2: Preform preprocessing\n",
    "    preprocess = weights.transforms()\n",
    "\n",
    "\n",
    "    batch = [preprocess(image)]\n",
    "\n",
    "    # Step 3: Inference on the image\n",
    "    model.eval()\n",
    "    prediction = model(batch)[0]\n",
    "    \n",
    "    # Step 4: Grab the prediction and confidence\n",
    "    labels = [weights.meta[\"categories\"][i] for i in prediction[\"labels\"]]\n",
    "    confs = prediction[\"scores\"].tolist()\n",
    "    fo_boxes = convert_xyxy_boxes(sample, prediction[\"boxes\"].tolist())\n",
    "    detections = []\n",
    "    \n",
    "    for cls, box, conf in zip(labels, fo_boxes, confs):\n",
    "        \n",
    "        det = fo.Detection(label=cls, bounding_box=box, confidence=conf)\n",
    "        detections.append(det)\n",
    "        \n",
    "    sample[\"torchvision\"] = fo.Detections(detections=detections)\n",
    "    sample.save()"
   ]
  },
  {
   "cell_type": "code",
   "execution_count": 17,
   "id": "e8374082-9947-498a-b5cc-4f291099536c",
   "metadata": {},
   "outputs": [
    {
     "data": {
      "text/html": [
       "\n",
       "        <iframe\n",
       "            width=\"100%\"\n",
       "            height=\"800\"\n",
       "            src=\"http://localhost:5151/?notebook=True&subscription=3aeb727d-d853-435e-bb0a-cfd410859b38\"\n",
       "            frameborder=\"0\"\n",
       "            allowfullscreen\n",
       "            \n",
       "        ></iframe>\n",
       "        "
      ],
      "text/plain": [
       "<IPython.lib.display.IFrame at 0x70059c9eed40>"
      ]
     },
     "metadata": {},
     "output_type": "display_data"
    }
   ],
   "source": [
    "session.show()"
   ]
  },
  {
   "cell_type": "code",
   "execution_count": null,
   "id": "309b506e-b7b3-439f-81df-0409e404b1c7",
   "metadata": {},
   "outputs": [],
   "source": []
  },
  {
   "cell_type": "code",
   "execution_count": null,
   "id": "98181ee7-bdf2-44b7-8f63-f00df9e859f9",
   "metadata": {},
   "outputs": [],
   "source": []
  },
  {
   "cell_type": "code",
   "execution_count": null,
   "id": "29163dd5-27c1-4c1e-bc23-7c2c1f3c11ad",
   "metadata": {},
   "outputs": [],
   "source": []
  }
 ],
 "metadata": {
  "kernelspec": {
   "display_name": "Python 3 (ipykernel)",
   "language": "python",
   "name": "python3"
  },
  "language_info": {
   "codemirror_mode": {
    "name": "ipython",
    "version": 3
   },
   "file_extension": ".py",
   "mimetype": "text/x-python",
   "name": "python",
   "nbconvert_exporter": "python",
   "pygments_lexer": "ipython3",
   "version": "3.10.12"
  }
 },
 "nbformat": 4,
 "nbformat_minor": 5
}
